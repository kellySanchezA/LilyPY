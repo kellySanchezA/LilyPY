{
  "nbformat": 4,
  "nbformat_minor": 0,
  "metadata": {
    "colab": {
      "provenance": [],
      "authorship_tag": "ABX9TyNP5rMF+b0JAaRXvwKnjef5",
      "include_colab_link": true
    },
    "kernelspec": {
      "name": "python3",
      "display_name": "Python 3"
    },
    "language_info": {
      "name": "python"
    }
  },
  "cells": [
    {
      "cell_type": "markdown",
      "metadata": {
        "id": "view-in-github",
        "colab_type": "text"
      },
      "source": [
        "<a href=\"https://colab.research.google.com/github/kellySanchezA/LilyPY/blob/main/An%C3%A1lisis_de_sentimientos.ipynb\" target=\"_parent\"><img src=\"https://colab.research.google.com/assets/colab-badge.svg\" alt=\"Open In Colab\"/></a>"
      ]
    },
    {
      "cell_type": "code",
      "execution_count": 1,
      "metadata": {
        "colab": {
          "base_uri": "https://localhost:8080/"
        },
        "id": "WY5RF6WvoTPN",
        "outputId": "3af1a178-5be9-4ae2-fbce-67f0b19c41be"
      },
      "outputs": [
        {
          "output_type": "stream",
          "name": "stdout",
          "text": [
            "Palabras más repetidas:\n",
            "de: 76\n",
            "el: 35\n",
            "que: 34\n",
            "y: 31\n",
            "a: 28\n",
            "la: 26\n",
            "en: 24\n",
            "salinas: 17\n",
            "pliego: 15\n",
            "los: 14\n",
            "\n",
            "Clasificación de palabras:\n",
            "Palabras positivas: 1\n",
            "Palabras neutras: 1125\n",
            "Palabras negativas: 0\n"
          ]
        }
      ],
      "source": [
        "import re\n",
        "from collections import Counter\n",
        "import requests\n",
        "from bs4 import BeautifulSoup\n",
        "\n",
        "def preprocesar_texto(texto):\n",
        "    texto = texto.lower()\n",
        "    texto = re.sub(r'[^a-zA-Záéíóúñ\\s]', '', texto)\n",
        "    palabras = texto.split()\n",
        "    return palabras\n",
        "\n",
        "def clasificar_palabras(palabras, palabras_positivas, palabras_negativas):\n",
        "    palabras_positivas = set(palabras_positivas)\n",
        "    palabras_negativas = set(palabras_negativas)\n",
        "    contador = {'positivas': 0, 'neutras': 0, 'negativas': 0}\n",
        "\n",
        "    for palabra in palabras:\n",
        "        if palabra in palabras_positivas:\n",
        "            contador['positivas'] += 1\n",
        "        elif palabra in palabras_negativas:\n",
        "            contador['negativas'] += 1\n",
        "        else:\n",
        "            contador['neutras'] += 1\n",
        "\n",
        "    return contador\n",
        "\n",
        "def palabras_mas_repetidas(palabras, n=10):\n",
        "    contador = Counter(palabras)\n",
        "    return contador.most_common(n)\n",
        "\n",
        "def obtener_contenido_de_enlace(url):\n",
        "    response = requests.get(url)\n",
        "    soup = BeautifulSoup(response.text, 'html.parser')\n",
        "    contenido = soup.get_text()\n",
        "    return contenido\n",
        "\n",
        "if __name__ == '__main__':\n",
        "    url = \"https://www.eluniversal.com.mx/cartera/amlo-vs-salinas-pliego-todas-sus-peleas-en-lo-que-va-del-2023/\"\n",
        "\n",
        "\n",
        "    palabras_positivas = {\"bueno\", \"positivo\", \"feliz\", \"alegre\"}\n",
        "    palabras_negativas = {\"malo\", \"negativo\", \"triste\", \"enojado\"}\n",
        "\n",
        "    contenido = obtener_contenido_de_enlace(url)\n",
        "    palabras = preprocesar_texto(contenido)\n",
        "    contador_polaridad = clasificar_palabras(palabras, palabras_positivas, palabras_negativas)\n",
        "    palabras_repetidas = palabras_mas_repetidas(palabras)\n",
        "\n",
        "    print(\"Palabras más repetidas:\")\n",
        "    for palabra, frecuencia in palabras_repetidas:\n",
        "        print(f\"{palabra}: {frecuencia}\")\n",
        "\n",
        "    print(\"\\nClasificación de palabras:\")\n",
        "    print(f\"Palabras positivas: {contador_polaridad['positivas']}\")\n",
        "    print(f\"Palabras neutras: {contador_polaridad['neutras']}\")\n",
        "    print(f\"Palabras negativas: {contador_polaridad['negativas']}\")\n"
      ]
    }
  ]
}